{
 "cells": [
  {
   "cell_type": "markdown",
   "id": "e540b38f-b225-4145-8654-d854d1024cb0",
   "metadata": {},
   "source": [
    "# Q1. You are writing code for a company. The requirement of the company is that you create a python function that will check whether the password entered by the user is correct or not. The function should take the password as input and return the string “Valid Password” if the entered password follows the below-given password guidelines else it should return “Invalid Password”.\n",
    "# Note: \n",
    "# 1. The Password should contain at least two uppercase letters and at least two lowercase letters.\n",
    "# 2. The Password should contain at least a number and three special characters.\n",
    "# 3. The length of the password should be 10 characters long."
   ]
  },
  {
   "cell_type": "code",
   "execution_count": 1,
   "id": "8503ff24-6a2f-4e50-8c21-81f28f29c896",
   "metadata": {},
   "outputs": [],
   "source": [
    "import re\n",
    "def pass_word(password):\n",
    "    \n",
    "\n",
    "    counter_special = 0\n",
    "    counter_upper = 0\n",
    "    counter_lower = 0\n",
    "    counter_numeric = 0\n",
    "    string_check= re.compile('[@_!#$%^&*()<>?/\\|}{~:]')\n",
    "    \n",
    "    for i in password:\n",
    "        \n",
    "        if i.isupper():\n",
    "            counter_upper += 1\n",
    "\n",
    "        if i.islower():\n",
    "            counter_lower += 1\n",
    "            \n",
    "        if i.isnumeric():\n",
    "            counter_numeric += 1\n",
    "            \n",
    "        if(string_check.search(i) != None):\n",
    "            counter_special += 1\n",
    "    \n",
    "    if len(password) == 10 and counter_numeric >= 1 and counter_special >= 3 and counter_upper >=2 and counter_lower >=2 :\n",
    "        \n",
    "        return \"Valid Password\"\n",
    "\n",
    "    else:\n",
    "        return \"Invalid Password\"\n",
    "        \n",
    "        \n",
    "        \n",
    "        "
   ]
  },
  {
   "cell_type": "code",
   "execution_count": 2,
   "id": "242b3644-f564-46ee-a373-c77e22e03e42",
   "metadata": {},
   "outputs": [
    {
     "name": "stdin",
     "output_type": "stream",
     "text": [
      "Enter the password you want HarA23!@#$\n"
     ]
    },
    {
     "data": {
      "text/plain": [
       "'Valid Password'"
      ]
     },
     "execution_count": 2,
     "metadata": {},
     "output_type": "execute_result"
    }
   ],
   "source": [
    "pass_word(input(\"Enter the password you want\"))"
   ]
  },
  {
   "cell_type": "markdown",
   "id": "f773354d-f550-46d7-86f8-8b2fcf7b7323",
   "metadata": {},
   "source": [
    "# Q2. Solve the below-given questions using at least one of the following:\n",
    "# 1. Lambda function\n",
    "# 2. Filter function\n",
    "# 3. Map function\n",
    "# 4. List Comprehension\n",
    "# Check if the string starts with a particular letter\n",
    "# Check if the string is numeric\n",
    "# Sort a list of tuples having fruit names and their quantity. [(\"mango\",99),(\"orange\",80), (\"grapes\", 1000)]\n",
    "# Find the squares of numbers from 1 to 10\n",
    "# Find the cube root of numbers from 1 to 10\n",
    "# Check if a given number is even\n",
    "# Filter odd numbers from the given list.[1,2,3,4,5,6,7,8,9,10]\n",
    "# Sort a list of integers into positive and negative integers lists.[1,2,3,4,5,6,-1,-2,-3,-4,-5,0]"
   ]
  },
  {
   "cell_type": "markdown",
   "id": "3701851a-6008-41bb-9339-57a190bc1c94",
   "metadata": {},
   "source": [
    "# Check if the string starts with a particular letter\n"
   ]
  },
  {
   "cell_type": "code",
   "execution_count": 1,
   "id": "59889135-7021-4b84-8695-fa1df4735010",
   "metadata": {},
   "outputs": [
    {
     "name": "stdout",
     "output_type": "stream",
     "text": [
      "The string doesnot began with : a\n"
     ]
    }
   ],
   "source": [
    "start_letter = \"a\"\n",
    "string = \"bcdvfgth\"\n",
    "\n",
    "result = lambda x : print(\"The string begins with : \" , start_letter) if  string[0] ==\"a\" else print(\"The string doesnot began with :\" ,start_letter )\n",
    "result(string)"
   ]
  },
  {
   "cell_type": "markdown",
   "id": "a159a6a2-09c3-4e6f-83e1-f872e7cf6e54",
   "metadata": {},
   "source": [
    "# Check if the string is numeric"
   ]
  },
  {
   "cell_type": "code",
   "execution_count": 22,
   "id": "f0ecb25e-0f4b-401e-898a-2c713f5f7d5c",
   "metadata": {},
   "outputs": [
    {
     "name": "stdout",
     "output_type": "stream",
     "text": [
      "The string is not numeric\n"
     ]
    }
   ],
   "source": [
    "string = \"dafgetrhy\"\n",
    "\n",
    "result = lambda x : print(\"The string is numeric\") if x.isnumeric() else print(\"The string is not numeric\")\n",
    "result(string)\n",
    "\n"
   ]
  },
  {
   "cell_type": "markdown",
   "id": "4a37bfcf-505a-494b-b703-0c8107ec05b6",
   "metadata": {},
   "source": [
    "# Sort a list of tuples having fruit names and their quantity. [(\"mango\",99),(\"orange\",80), (\"grapes\", 1000)]"
   ]
  },
  {
   "cell_type": "code",
   "execution_count": 18,
   "id": "6484c55f-5f35-4221-8b98-e24abc83d89a",
   "metadata": {},
   "outputs": [],
   "source": [
    "fruit_list =  [(\"mango\",99),(\"orange\",80), (\"grapes\", 1000)]\n",
    "\n",
    "fruit_list.sort()"
   ]
  },
  {
   "cell_type": "code",
   "execution_count": 19,
   "id": "3b1c2d8c-1927-4db9-9759-bde317f3711b",
   "metadata": {},
   "outputs": [
    {
     "data": {
      "text/plain": [
       "[('grapes', 1000), ('mango', 99), ('orange', 80)]"
      ]
     },
     "execution_count": 19,
     "metadata": {},
     "output_type": "execute_result"
    }
   ],
   "source": [
    "fruit_list"
   ]
  },
  {
   "cell_type": "markdown",
   "id": "766b4b04-e4ed-452f-b52f-93dbc527982a",
   "metadata": {},
   "source": [
    "# Find the squares of numbers from 1 to 10"
   ]
  },
  {
   "cell_type": "code",
   "execution_count": 26,
   "id": "b2ef581d-3bdd-4e9c-a039-8f4f6b641cca",
   "metadata": {},
   "outputs": [
    {
     "name": "stdout",
     "output_type": "stream",
     "text": [
      "[1, 4, 9, 16, 25, 36, 49, 64, 81, 100]\n"
     ]
    }
   ],
   "source": [
    "l = list(range(1,11))\n",
    "\n",
    "result = map(lambda x: x**2, l)\n",
    "print(list(result))\n"
   ]
  },
  {
   "cell_type": "markdown",
   "id": "71a8339e-3611-42f7-a9f5-a0dcc44103b3",
   "metadata": {},
   "source": [
    "# Find the cube root of numbers from 1 to 10"
   ]
  },
  {
   "cell_type": "code",
   "execution_count": 61,
   "id": "11f7a1b2-a5ca-494c-8e03-6001f402f9c8",
   "metadata": {},
   "outputs": [
    {
     "name": "stdout",
     "output_type": "stream",
     "text": [
      "[1, 8, 27, 64, 125, 216, 343, 512, 729, 1000]\n"
     ]
    }
   ],
   "source": [
    "l = list(range(1,11))\n",
    "\n",
    "result = map(lambda x: x**3, l)\n",
    "print(list(result))"
   ]
  },
  {
   "cell_type": "markdown",
   "id": "b43e89b8-f4a7-4cf2-b6ef-eecaa41121bf",
   "metadata": {},
   "source": [
    "# Check if a given number is even"
   ]
  },
  {
   "cell_type": "code",
   "execution_count": 62,
   "id": "9f9a81ab-c22e-41d1-ac3b-dc11cbded8c7",
   "metadata": {},
   "outputs": [
    {
     "name": "stdout",
     "output_type": "stream",
     "text": [
      "The number is even\n",
      "The number is odd\n"
     ]
    }
   ],
   "source": [
    "num = lambda x :print(\"The number is even\") if x%2 ==0 else print(\"The number is odd\")\n",
    "num(40)\n",
    "num(23)"
   ]
  },
  {
   "cell_type": "markdown",
   "id": "67b8c8ed-093e-461b-8607-1a894bc7329d",
   "metadata": {},
   "source": [
    "# Filter odd numbers from the given list.[1,2,3,4,5,6,7,8,9,10]"
   ]
  },
  {
   "cell_type": "code",
   "execution_count": 63,
   "id": "4610d45d-90f4-48d5-8b3a-f7516b6dcd5e",
   "metadata": {},
   "outputs": [
    {
     "data": {
      "text/plain": [
       "[1, 3, 5, 7, 9]"
      ]
     },
     "execution_count": 63,
     "metadata": {},
     "output_type": "execute_result"
    }
   ],
   "source": [
    "[i for i in range(1,11) if i%2!=0]"
   ]
  },
  {
   "cell_type": "markdown",
   "id": "a0dff7bd-cf98-403d-a5e6-c21acaf23e54",
   "metadata": {},
   "source": [
    "# Sort a list of integers into positive and negative integers lists.[1,2,3,4,5,6,-1,-2,-3,-4,-5,0]"
   ]
  },
  {
   "cell_type": "code",
   "execution_count": 25,
   "id": "d8bad163-939b-4304-91b3-74ee286cb99d",
   "metadata": {},
   "outputs": [],
   "source": [
    "l = [1,2,3,4,5,6,-1,-2,-3,-4,-5,0]\n",
    "posi = []\n",
    "negative = []"
   ]
  },
  {
   "cell_type": "code",
   "execution_count": 34,
   "id": "c1725287-a16b-4c5e-b9f9-ff27da7db7c4",
   "metadata": {},
   "outputs": [
    {
     "data": {
      "text/plain": [
       "<map at 0x7f9f601fa4d0>"
      ]
     },
     "execution_count": 34,
     "metadata": {},
     "output_type": "execute_result"
    }
   ],
   "source": [
    "map(lambda x : posi.append(x) if x >= 0 else negative.append(x),l)"
   ]
  },
  {
   "cell_type": "code",
   "execution_count": 35,
   "id": "618ed505-20d1-47d1-861f-462aa7b877a6",
   "metadata": {},
   "outputs": [
    {
     "data": {
      "text/plain": [
       "[1, 2, 3, 4, 5, 6, 0]"
      ]
     },
     "execution_count": 35,
     "metadata": {},
     "output_type": "execute_result"
    }
   ],
   "source": [
    "posi"
   ]
  },
  {
   "cell_type": "code",
   "execution_count": 36,
   "id": "78212f8c-b19f-4498-9d7e-1845ba78e4de",
   "metadata": {},
   "outputs": [
    {
     "data": {
      "text/plain": [
       "[-1, -2, -3, -4, -5]"
      ]
     },
     "execution_count": 36,
     "metadata": {},
     "output_type": "execute_result"
    }
   ],
   "source": [
    "negative"
   ]
  },
  {
   "cell_type": "code",
   "execution_count": null,
   "id": "9a5b9d97-579e-48ad-a919-68ce6c0407ad",
   "metadata": {},
   "outputs": [],
   "source": []
  }
 ],
 "metadata": {
  "kernelspec": {
   "display_name": "Python 3 (ipykernel)",
   "language": "python",
   "name": "python3"
  },
  "language_info": {
   "codemirror_mode": {
    "name": "ipython",
    "version": 3
   },
   "file_extension": ".py",
   "mimetype": "text/x-python",
   "name": "python",
   "nbconvert_exporter": "python",
   "pygments_lexer": "ipython3",
   "version": "3.10.8"
  }
 },
 "nbformat": 4,
 "nbformat_minor": 5
}
